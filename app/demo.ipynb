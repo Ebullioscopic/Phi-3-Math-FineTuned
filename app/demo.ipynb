{
 "cells": [
  {
   "cell_type": "code",
   "execution_count": null,
   "metadata": {},
   "outputs": [],
   "source": [
    "!pip install -r /content/app/requirements.txt"
   ]
  },
  {
   "cell_type": "markdown",
   "metadata": {},
   "source": [
    "## Creating a Tunnel for Your Colab Application\n",
    "This section guides you through creating a secure tunnel to make your Colab application accessible from outside the Colab environment.\n",
    "\n",
    "*Important Note:*\n",
    "\n",
    "* When using in Server or Computer Tunneling exposes your application to the public internet. Exercise caution and restrict access if necessary (e.g., using a password or IP address whitelist)."
   ]
  },
  {
   "cell_type": "code",
   "execution_count": null,
   "metadata": {},
   "outputs": [],
   "source": [
    "!npm install localtunnel"
   ]
  },
  {
   "cell_type": "code",
   "execution_count": null,
   "metadata": {},
   "outputs": [],
   "source": [
    "!streamlit run /content/app/appcolab/Chat-Interface.py &>/content/logs.txt &"
   ]
  },
  {
   "cell_type": "markdown",
   "metadata": {},
   "source": [
    "## Accessing and Monitoring Your Application:\n",
    "\n",
    "* Public URL: Visit the provided public URL in your web browser to access your Streamlit application. Get the Password from log.txt(External IP Don't Type the Port)\n",
    "* Live Logs:\n",
    "1. Open the Files tab on the right-hand side of Colab.\n",
    "2. Navigate to the directory containing your logs.txt file (usually /content).\n",
    "3. Double-click on logs.txt to view the server's live log output. This can aid in debugging and monitoring application behavior."
   ]
  },
  {
   "cell_type": "code",
   "execution_count": null,
   "metadata": {},
   "outputs": [],
   "source": [
    "!npx localtunnel --port 8501"
   ]
  }
 ],
 "metadata": {
  "language_info": {
   "name": "python"
  }
 },
 "nbformat": 4,
 "nbformat_minor": 2
}
